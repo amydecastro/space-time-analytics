{
 "cells": [
  {
   "cell_type": "markdown",
   "metadata": {
    "slideshow": {
     "slide_type": "slide"
    }
   },
   "source": [
    "# Introduction to Python\n",
    "*Space-Time Analytics — Lecture 2b*\n",
    "\n",
    "* **Prof. Carson J. Q. Farmer**  \n",
    "    <i class=\"fa-fw fa fa-twitter\"></i> [@carsonfarmer](https://twitter.com/carsonfarmer)  \n",
    "    <i class=\"fa-fw fa fa-globe\"></i> [carsonfarmer.com](https://carsonfarmer.com)  \n",
    "    <i class=\"fa-fw fa fa-envelope-o\"></i> [carson.farmer@colorado.edu](mailto:carson.farmer@colorado.edu)  \n",
    "    <i class=\"fa-fw fa fa-github-alt\"></i> [github.com/carsonfarmer](https://github.com/carsonfarmer)  \n",
    "    <i class=\"fa-fw fa fa-briefcase\"></i> Guggenheim Building Room 207  \n",
    "    <i class=\"fa-fw fa fa-clock-o\"></i> Wednesdays 2:00-3:00 PM and 4:15-5:15 PM  "
   ]
  },
  {
   "cell_type": "markdown",
   "metadata": {
    "slideshow": {
     "slide_type": "slide"
    }
   },
   "source": [
    "## Introduction\n",
    "\n",
    "To use the powerful range of tools, functions, commands, and spatial libraries available in `Python`, you first need to learn a little bit about the syntax and meaning of `Python` commands. Once you have learned this, operations become simple to perform..."
   ]
  },
  {
   "cell_type": "markdown",
   "metadata": {
    "slideshow": {
     "slide_type": "slide"
    }
   },
   "source": [
    "## Invoking an Operation\n",
    "\n",
    "Complex computations are built up from simpler computations. This may seem obvious, but it is a powerful idea. An **algorithm** is just a description of a computation in terms of other computations that you already know how to perform. To help distinguish between the computation as a whole and the simpler parts, it is helpful to introduce a new word: an **operator** performs a computation."
   ]
  },
  {
   "cell_type": "markdown",
   "metadata": {
    "slideshow": {
     "slide_type": "subslide"
    }
   },
   "source": [
    "It's helpful to think of the computation carried out by an operator as involving four parts:\n",
    "\n",
    "1. The name of the operator\n",
    "2. The input arguments\n",
    "3. The output value\n",
    "4. Side effects"
   ]
  },
  {
   "cell_type": "markdown",
   "metadata": {
    "slideshow": {
     "slide_type": "slide"
    }
   },
   "source": [
    "## Inputs and Outputs\n",
    "\n",
    "A typical operation takes one or more **input arguments** and uses the information in these to produce an **output value**.\n",
    "\n",
    "Along the way, the computer might take some action: display a graph, store a file, make a sound, etc. These actions are called **side effects**."
   ]
  },
  {
   "cell_type": "markdown",
   "metadata": {
    "slideshow": {
     "slide_type": "subslide"
    }
   },
   "source": [
    "Since `Python` is a general-purpose programming language, we usually need to `import` special packages for doing specific things (like working with spatial data). You can think of this as adding words to the language. For *Scientific `Python`*, the most important library that we need is `numpy` (*Numerical Python*), which can be loaded like this:"
   ]
  },
  {
   "cell_type": "code",
   "execution_count": 34,
   "metadata": {
    "collapsed": false,
    "slideshow": {
     "slide_type": "-"
    }
   },
   "outputs": [],
   "source": [
    "import numpy as np  # Importing numpy 'as' np is just to reduce typing..."
   ]
  },
  {
   "cell_type": "markdown",
   "metadata": {
    "slideshow": {
     "slide_type": "slide"
    }
   },
   "source": [
    "## Syntax\n",
    "\n",
    "To tell the computer to perform a computation — call this **invoking an operation** or giving a **command** — you need to provide the name and the input arguments in a specific format. The computer then returns the output value.\n",
    "\n",
    "For example, the command `np.sqrt(25)` invokes the square root operator (named `sqrt` from the `numpy` library) on the argument `25`. The output from the computation will, of course, be `5`.\n",
    "\n",
    "The syntax of invoking an operation consists of the operator's name, followed by round parentheses. The input arguments go inside the parentheses."
   ]
  },
  {
   "cell_type": "markdown",
   "metadata": {
    "slideshow": {
     "slide_type": "subslide"
    }
   },
   "source": [
    "* The software program that you use to invoke operators is called an **interpreter**\\*\n",
    "* You enter your commands as a 'dialog' between you and the interpreter\n",
    "* Commands can be entered as part of a 'script', directly at a 'command prompt' or within a `Notebook` like we're doing now:"
   ]
  },
  {
   "cell_type": "code",
   "execution_count": 37,
   "metadata": {
    "collapsed": false
   },
   "outputs": [
    {
     "data": {
      "text/plain": [
       "5.0"
      ]
     },
     "execution_count": 37,
     "metadata": {},
     "output_type": "execute_result"
    }
   ],
   "source": [
    "np.median(np.arange(1, 10))"
   ]
  },
  {
   "cell_type": "markdown",
   "metadata": {},
   "source": [
    "<div class=\"alert alert-info\" style=\"font-size: .8em;\">\n",
    "The interpreter is the program you are running in the background when you start a `Python` `Notebook`\n",
    "</div>"
   ]
  },
  {
   "cell_type": "markdown",
   "metadata": {
    "slideshow": {
     "slide_type": "slide"
    }
   },
   "source": [
    "* In the previous situation, the 'prompt' is `In [3]:`, and the 'command' is `np.sqrt(25)`.\n",
    "* When you press '⌘/Ctrl + Return', the interpreter reads your command and performs the computation.\n",
    "* For commands such as the one above, the interpreter will print the output value from the computation."
   ]
  },
  {
   "cell_type": "markdown",
   "metadata": {
    "slideshow": {
     "slide_type": "slide"
    }
   },
   "source": [
    "## Arguments \n",
    "\n",
    "Often, operations involve more than one argument. The various arguments are separated by commas. For example, here is an operation named `arange` from the `numpy` library that produces 'a range' of numbers (increasing values between 3 and 10):"
   ]
  },
  {
   "cell_type": "code",
   "execution_count": 59,
   "metadata": {
    "collapsed": false
   },
   "outputs": [
    {
     "data": {
      "text/plain": [
       "4.0"
      ]
     },
     "execution_count": 59,
     "metadata": {},
     "output_type": "execute_result"
    }
   ],
   "source": [
    "np.sqrt(x)"
   ]
  },
  {
   "cell_type": "code",
   "execution_count": 58,
   "metadata": {
    "collapsed": false
   },
   "outputs": [
    {
     "data": {
      "text/plain": [
       "0.17629237645606133"
      ]
     },
     "execution_count": 58,
     "metadata": {},
     "output_type": "execute_result"
    }
   ],
   "source": [
    "np.mean(np.random.normal(size=)"
   ]
  },
  {
   "cell_type": "markdown",
   "metadata": {
    "slideshow": {
     "slide_type": "slide"
    }
   },
   "source": [
    "## Order of Arguments\n",
    "\n",
    "In the previous example, the first argument tells where to start the range and the second tells where to end it. The order of the arguments is important. For instance, *here* is the range produced when 10 is the first argument, 3 is the second, and the third is -1 (decreasing values between 10 and 3):"
   ]
  },
  {
   "cell_type": "code",
   "execution_count": 44,
   "metadata": {
    "collapsed": false
   },
   "outputs": [
    {
     "data": {
      "text/plain": [
       "array([10,  9,  8,  7,  6,  5,  4])"
      ]
     },
     "execution_count": 44,
     "metadata": {},
     "output_type": "execute_result"
    }
   ],
   "source": [
    "np.arange(10, 3, -1)"
   ]
  },
  {
   "cell_type": "markdown",
   "metadata": {
    "slideshow": {
     "slide_type": "slide"
    }
   },
   "source": [
    "## Named Arguments\n",
    "\n",
    "For some operators, particularly those that have many input arguments, some of the arguments can be referred to by name rather than position. This is particularly useful when the named argument has a sensible default value. For example, the `arange` operator from the `numpy` library can be instructed what type of output values to produce (integers, floats, etc). This is accomplished using an argument named `dtype`:"
   ]
  },
  {
   "cell_type": "code",
   "execution_count": 49,
   "metadata": {
    "collapsed": false
   },
   "outputs": [
    {
     "data": {
      "text/plain": [
       "3.3333333333333335"
      ]
     },
     "execution_count": 49,
     "metadata": {},
     "output_type": "execute_result"
    }
   ],
   "source": [
    "10/3"
   ]
  },
  {
   "cell_type": "markdown",
   "metadata": {
    "slideshow": {
     "slide_type": "slide"
    }
   },
   "source": [
    "## No Arguments\n",
    "\n",
    "Note that all the values in the range now have decimal places. Depending on the circumstances, all four parts of an operation need not be present. For example, the `ctime` operation from the `time` library returns the current time and date; no input arguments are required:"
   ]
  },
  {
   "cell_type": "code",
   "execution_count": 50,
   "metadata": {
    "collapsed": false
   },
   "outputs": [
    {
     "data": {
      "text/plain": [
       "'Mon Aug 29 13:24:45 2016'"
      ]
     },
     "execution_count": 50,
     "metadata": {},
     "output_type": "execute_result"
    }
   ],
   "source": [
    "import time\n",
    "time.ctime()"
   ]
  },
  {
   "cell_type": "markdown",
   "metadata": {},
   "source": [
    "<div class=\"alert alert-info\" style=\"font-size: .8em;\">\n",
    "In the previous example, we first imported the `time` library, which provides a series of commands that help us work with dates and times. Next, even though there are no arguments, the parentheses are still used when calling the `ctime` command. Think of the pair of parentheses as meaning, '*do this*'.\n",
    "</div>"
   ]
  },
  {
   "cell_type": "markdown",
   "metadata": {
    "slideshow": {
     "slide_type": "slide"
    }
   },
   "source": [
    "## Naming and Storing Values\n",
    "\n",
    "Often the value returned by an operation will be used later on. Values can be stored for later use with the **assignment operator**. This has a different syntax that reminds the user that a value is being stored. Here's an example of a simple assignment:"
   ]
  },
  {
   "cell_type": "code",
   "execution_count": 51,
   "metadata": {
    "collapsed": false
   },
   "outputs": [],
   "source": [
    "x = 16"
   ]
  },
  {
   "cell_type": "markdown",
   "metadata": {
    "slideshow": {
     "slide_type": "fragment"
    }
   },
   "source": [
    "The command has stored the value `16` under the name `x`. The syntax is always the same: an equal sign (`=`) with a name on the left side and a value on the right."
   ]
  },
  {
   "cell_type": "markdown",
   "metadata": {
    "slideshow": {
     "slide_type": "subslide"
    }
   },
   "source": [
    "Such stored values are called **objects**. Making an assignment to an object defines the object. Once an object has been defined, it can be referred to and used in later computations. Notice that an assignment operation does not return a value or display a value. Its sole purpose is to have the side effects of defining the object and thereby storing a value under the object's name.\n",
    "\n",
    "To refer to the value stored in the object, just use the object's name itself. For instance:"
   ]
  },
  {
   "cell_type": "code",
   "execution_count": 52,
   "metadata": {
    "collapsed": false
   },
   "outputs": [
    {
     "data": {
      "text/plain": [
       "16"
      ]
     },
     "execution_count": 52,
     "metadata": {},
     "output_type": "execute_result"
    }
   ],
   "source": [
    "x"
   ]
  },
  {
   "cell_type": "markdown",
   "metadata": {
    "slideshow": {
     "slide_type": "slide"
    }
   },
   "source": [
    "# Computation on Variables\n",
    "\n",
    "Doing a computation on the value store in an object is much the same (and provides and extremely rich syntax for performing complex calculations):"
   ]
  },
  {
   "cell_type": "code",
   "execution_count": 53,
   "metadata": {
    "collapsed": false
   },
   "outputs": [
    {
     "data": {
      "text/plain": [
       "4.0"
      ]
     },
     "execution_count": 53,
     "metadata": {},
     "output_type": "execute_result"
    }
   ],
   "source": [
    "np.sqrt(x)"
   ]
  },
  {
   "cell_type": "markdown",
   "metadata": {
    "slideshow": {
     "slide_type": "subslide"
    }
   },
   "source": [
    "## Variable Names\n",
    "\n",
    "You can create as many objects as you like and give them names that remind you of their purpose.\n",
    "Some examples: `wilma`, `ages`, `temp`, `dog_houses`, `foo3`. There *are* some general rules for object names:\n",
    "\n",
    "<br/>\n",
    "<div class=\"alert alert-info\" style=\"font-size: .8em;\">\n",
    "For the sake of readability, keep object names short. But if you really must have an object named something like `ages_of_children_from_the_clinical_trial`, feel free (it's just more typing for you later!).\n",
    "</div>"
   ]
  },
  {
   "cell_type": "markdown",
   "metadata": {
    "slideshow": {
     "slide_type": "subslide"
    }
   },
   "source": [
    "* Use only letters and numbers and 'underscores' (`_`)\n",
    "* Do **not** use spaces anywhere in the name (`Python` won't let you)\n",
    "* A number cannot be the first character in the name\n",
    "* Capital letters are treated as distinct from lower-case letters (*i.e.*, `Python` is *case-sensitive*)\n",
    "    * the objects named `wilma`, `Wilma`, and `WILMA` are all different\n",
    "* If possible, use an 'underscore' between words (*i.e.*, `my_object`)"
   ]
  },
  {
   "cell_type": "markdown",
   "metadata": {
    "slideshow": {
     "slide_type": "slide"
    }
   },
   "source": [
    "## Objects\n",
    "\n",
    "Objects can store all sorts of things, for example a range of numbers:"
   ]
  },
  {
   "cell_type": "code",
   "execution_count": 10,
   "metadata": {
    "collapsed": false
   },
   "outputs": [],
   "source": [
    "x = np.arange(1, 7)"
   ]
  },
  {
   "cell_type": "markdown",
   "metadata": {
    "slideshow": {
     "slide_type": "fragment"
    }
   },
   "source": [
    "When you assign a new value to an existing object, as just done to `x` above, the former values of that object is erased from the computer memory. The former value of `x` was `16`, but after the new assignment above, it is:"
   ]
  },
  {
   "cell_type": "code",
   "execution_count": 11,
   "metadata": {
    "collapsed": false
   },
   "outputs": [
    {
     "data": {
      "text/plain": [
       "array([1, 2, 3, 4, 5, 6])"
      ]
     },
     "execution_count": 11,
     "metadata": {},
     "output_type": "execute_result"
    }
   ],
   "source": [
    "x"
   ]
  },
  {
   "cell_type": "markdown",
   "metadata": {
    "slideshow": {
     "slide_type": "slide"
    }
   },
   "source": [
    "## Object Assignment\n",
    "\n",
    "The value of an object is changed only via the assignment operator. Using an object in a computation does not change the value. For example, suppose you invoke the square-root operator on `x`:"
   ]
  },
  {
   "cell_type": "code",
   "execution_count": 12,
   "metadata": {
    "collapsed": false
   },
   "outputs": [
    {
     "data": {
      "text/plain": [
       "array([ 1.        ,  1.41421356,  1.73205081,  2.        ,  2.23606798,\n",
       "        2.44948974])"
      ]
     },
     "execution_count": 12,
     "metadata": {},
     "output_type": "execute_result"
    }
   ],
   "source": [
    "np.sqrt(x)"
   ]
  },
  {
   "cell_type": "markdown",
   "metadata": {},
   "source": [
    "The square roots have been returned as a value, but this doesn't change the value of `x`:"
   ]
  },
  {
   "cell_type": "code",
   "execution_count": 13,
   "metadata": {
    "collapsed": false
   },
   "outputs": [
    {
     "data": {
      "text/plain": [
       "array([1, 2, 3, 4, 5, 6])"
      ]
     },
     "execution_count": 13,
     "metadata": {},
     "output_type": "execute_result"
    }
   ],
   "source": [
    "x"
   ]
  },
  {
   "cell_type": "markdown",
   "metadata": {
    "slideshow": {
     "slide_type": "subslide"
    }
   },
   "source": [
    "If you want to change the value of `x`, you need to use the assignment operator:"
   ]
  },
  {
   "cell_type": "code",
   "execution_count": 14,
   "metadata": {
    "collapsed": false
   },
   "outputs": [],
   "source": [
    "x = np.sqrt(x)"
   ]
  },
  {
   "cell_type": "markdown",
   "metadata": {
    "slideshow": {
     "slide_type": "fragment"
    }
   },
   "source": [
    "<div class=\"alert alert-info\" style=\"font-size: .8em;\">\n",
    "An assignment command like <code>x = np.sqrt(x)</code> can be confusing to people who are used to algebraic notation. In algebra, the equal sign describes a relationship between the left and right sides. So, $x = \\sqrt{x}$ tells us about how the quantity $x$ and the quantity $\\sqrt{x}$ are related. Students are usually trained to 'solve' such a relationship, going through a series of algebraic steps to find values for $x$ that are consistent with the mathematical statement (for $x = \\sqrt{x}$, the solutions are $x = 0$ and $x = 1$). In contrast, the assignment command <code>x = np.sqrt(x)</code> is a way of replacing the previous values stored in <code>x</code> with new values that are the square-root of the old ones.\n",
    "</div>"
   ]
  },
  {
   "cell_type": "markdown",
   "metadata": {
    "slideshow": {
     "slide_type": "slide"
    }
   },
   "source": [
    "## Connecting Computations\n",
    "\n",
    "The brilliant thing about organizing operators in terms of unput arguments and output values is that the output of one operator can be used as an input to another. This lets complicated computations be built out of simpler ones.\n",
    "\n",
    "For example, suppose you have a list of `10000` voters in a precinct and you want to select a random sample of `20` of them for a survey. The `np.arange` operator can be used to generate a set of `10000` choices. The `np.random.choice` operator can then be used to select a subset of these values at random."
   ]
  },
  {
   "cell_type": "markdown",
   "metadata": {
    "slideshow": {
     "slide_type": "subslide"
    }
   },
   "source": [
    "## Selecting Subsets\n",
    "\n",
    "One way to connect the computations is by using objects to store the intermediate outputs:"
   ]
  },
  {
   "cell_type": "code",
   "execution_count": 15,
   "metadata": {
    "collapsed": false
   },
   "outputs": [
    {
     "data": {
      "text/plain": [
       "array([ 507, 1714, 6574, 5847, 9101, 2708, 6878, 5201, 1361, 8036,  828,\n",
       "       9074, 2833, 1695, 5946, 9191, 3276, 8125, 3638, 7339])"
      ]
     },
     "execution_count": 15,
     "metadata": {},
     "output_type": "execute_result"
    }
   ],
   "source": [
    "choices = np.arange(1, 10000)\n",
    "np.random.choice(choices, 20, replace=False) # Sample _without_ replacement"
   ]
  },
  {
   "cell_type": "markdown",
   "metadata": {
    "slideshow": {
     "slide_type": "subslide"
    }
   },
   "source": [
    "## Passing Outputs\n",
    "\n",
    "You can also pass the output of an operator *directly* as an argument to another operator. Here's another way to accomplish exactly the same thing as the above (note that the values will differ because we are performing a *random* sample):"
   ]
  },
  {
   "cell_type": "code",
   "execution_count": 16,
   "metadata": {
    "collapsed": false
   },
   "outputs": [
    {
     "data": {
      "text/plain": [
       "array([2911, 2508, 4752, 7974,   98, 6490, 6520,  913, 5288, 2517, 8688,\n",
       "       1858, 2655, 2625, 4454, 5027, 7354, 1059, 9176,  978])"
      ]
     },
     "execution_count": 16,
     "metadata": {},
     "output_type": "execute_result"
    }
   ],
   "source": [
    "np.random.choice(np.arange(1, 10000), 20, replace=False)"
   ]
  },
  {
   "cell_type": "markdown",
   "metadata": {
    "slideshow": {
     "slide_type": "slide"
    }
   },
   "source": [
    "## Numbers and Arithmetic\n",
    "\n",
    "The `Python` language has a concise notation for arithmetic that looks very much like the traditional one:"
   ]
  },
  {
   "cell_type": "code",
   "execution_count": 17,
   "metadata": {
    "collapsed": false,
    "format": "column"
   },
   "outputs": [
    {
     "data": {
      "text/plain": [
       "9.0"
      ]
     },
     "execution_count": 17,
     "metadata": {},
     "output_type": "execute_result"
    }
   ],
   "source": [
    "7. + 2."
   ]
  },
  {
   "cell_type": "code",
   "execution_count": 18,
   "metadata": {
    "collapsed": false,
    "format": "column"
   },
   "outputs": [
    {
     "data": {
      "text/plain": [
       "12.0"
      ]
     },
     "execution_count": 18,
     "metadata": {},
     "output_type": "execute_result"
    }
   ],
   "source": [
    "3. * 4."
   ]
  },
  {
   "cell_type": "code",
   "execution_count": 19,
   "metadata": {
    "collapsed": false,
    "format": "column"
   },
   "outputs": [
    {
     "data": {
      "text/plain": [
       "2.5"
      ]
     },
     "execution_count": 19,
     "metadata": {},
     "output_type": "execute_result"
    }
   ],
   "source": [
    "5. / 2."
   ]
  },
  {
   "cell_type": "code",
   "execution_count": 20,
   "metadata": {
    "collapsed": false,
    "format": "column"
   },
   "outputs": [
    {
     "data": {
      "text/plain": [
       "-5.0"
      ]
     },
     "execution_count": 20,
     "metadata": {},
     "output_type": "execute_result"
    }
   ],
   "source": [
    "3. - 8."
   ]
  },
  {
   "cell_type": "code",
   "execution_count": 21,
   "metadata": {
    "collapsed": false,
    "format": "column"
   },
   "outputs": [
    {
     "data": {
      "text/plain": [
       "-3.0"
      ]
     },
     "execution_count": 21,
     "metadata": {},
     "output_type": "execute_result"
    }
   ],
   "source": [
    "-3."
   ]
  },
  {
   "cell_type": "code",
   "execution_count": 22,
   "metadata": {
    "collapsed": false,
    "format": "column"
   },
   "outputs": [
    {
     "data": {
      "text/plain": [
       "25.0"
      ]
     },
     "execution_count": 22,
     "metadata": {},
     "output_type": "execute_result"
    }
   ],
   "source": [
    "5.**2. # S ame as 5^2"
   ]
  },
  {
   "cell_type": "markdown",
   "metadata": {
    "slideshow": {
     "slide_type": "slide"
    }
   },
   "source": [
    "## Complicating Things\n",
    "\n",
    "Arithmetic operators, like any other operators, can be connected to form more complicated computations. For instance:"
   ]
  },
  {
   "cell_type": "code",
   "execution_count": 23,
   "metadata": {
    "collapsed": false
   },
   "outputs": [
    {
     "data": {
      "text/plain": [
       "10.0"
      ]
     },
     "execution_count": 23,
     "metadata": {},
     "output_type": "execute_result"
    }
   ],
   "source": [
    "8. + 4. / 2."
   ]
  },
  {
   "cell_type": "markdown",
   "metadata": {},
   "source": [
    "<div class=\"alert alert-warning\" style=\"font-size: .8em;\">\n",
    "The a human reader, the command `8+4/2` might seem ambiguous. Is it intended to be `(8+4)/2` or `8+(4/2)`?\n",
    "The computer uses unambiguous rules to interpret the expression, but it's a good idea for you to use parentheses so that you can make sure that what you *intend* is what the computer carries out:\n",
    "</div>"
   ]
  },
  {
   "cell_type": "code",
   "execution_count": 24,
   "metadata": {
    "collapsed": false
   },
   "outputs": [
    {
     "data": {
      "text/plain": [
       "6.0"
      ]
     },
     "execution_count": 24,
     "metadata": {},
     "output_type": "execute_result"
    }
   ],
   "source": [
    "(8. + 4.) / 2."
   ]
  },
  {
   "cell_type": "markdown",
   "metadata": {
    "slideshow": {
     "slide_type": "slide"
    }
   },
   "source": [
    "## Mathematical Notation\n",
    "\n",
    "Traditional mathematical notations uses superscripts and radicals to indicate exponentials and roots — *e.g.* $3^2$ or $\\sqrt{3}$ or $\\sqrt[3]{8}$. This special typography doesn't work well with an ordinary keyboard, so `Python` and most other computer languages uses a different notation:"
   ]
  },
  {
   "cell_type": "code",
   "execution_count": 25,
   "metadata": {
    "collapsed": false,
    "format": "column"
   },
   "outputs": [
    {
     "data": {
      "text/plain": [
       "9.0"
      ]
     },
     "execution_count": 25,
     "metadata": {},
     "output_type": "execute_result"
    }
   ],
   "source": [
    "3.**2."
   ]
  },
  {
   "cell_type": "code",
   "execution_count": 26,
   "metadata": {
    "collapsed": false,
    "format": "column"
   },
   "outputs": [
    {
     "data": {
      "text/plain": [
       "1.7320508075688772"
      ]
     },
     "execution_count": 26,
     "metadata": {},
     "output_type": "execute_result"
    }
   ],
   "source": [
    "np.sqrt(3.) # or 3.**0.5"
   ]
  },
  {
   "cell_type": "code",
   "execution_count": 27,
   "metadata": {
    "collapsed": false,
    "format": "column"
   },
   "outputs": [
    {
     "data": {
      "text/plain": [
       "2.0"
      ]
     },
     "execution_count": 27,
     "metadata": {},
     "output_type": "execute_result"
    }
   ],
   "source": [
    "8.**(1./3.)"
   ]
  },
  {
   "cell_type": "markdown",
   "metadata": {
    "slideshow": {
     "slide_type": "subslide"
    }
   },
   "source": [
    "There is a large set of mathematical functions: exponentials, logs, trigonometric and inverse trigonometric functions, etc. Some examples:\n",
    "\n",
    "<table border=\"0\" style=\"font-size:.8em;\">\n",
    "<tr>\n",
    "<th>Traditional/Math</th>\n",
    "<th>Python</th>\n",
    "</tr>\n",
    "<tr>\n",
    "<td>$e^2$</td>\n",
    "<td><code>np.exp(2)</code></td>\n",
    "</tr>\n",
    "<tr>\n",
    "    <td>$\\log_{e}(100)$</td>\n",
    "    <td><code>np.log(100)</code></td>\n",
    "</tr>\n",
    "<tr>\n",
    "    <td>$\\log_{10}(100)$</td>\n",
    "    <td><code>np.log10(100)</code></td>\n",
    "</tr>\n",
    "<tr>\n",
    "    <td>$\\log_{2}(100)$</td>\n",
    "    <td><code>np.log2(100)</code></td>\n",
    "</tr>\n",
    "<tr>\n",
    "    <td>$\\cos(\\frac{\\pi}{2})$</td>\n",
    "    <td><code>np.cos(np.pi/2)</code></td>\n",
    "</tr>\n",
    "<tr>\n",
    "    <td>$\\sin(\\frac{\\pi}{2})$</td>\n",
    "    <td><code>np.sin(np.pi/2)</code></td>\n",
    "</tr>\n",
    "<tr>\n",
    "    <td>$\\tan(\\frac{\\pi}{2})$</td>\n",
    "    <td><code>np.tan(np.pi/2)</code></td>\n",
    "</tr>\n",
    "<tr>\n",
    "    <td>$\\cos^{-1}(-1)$</td>\n",
    "    <td><code>np.acos(-1)</code></td>\n",
    "</tr>\n",
    "</table>\n",
    "\n",
    "[pint]: https://pint.readthedocs.org/en/latest/\n",
    "[quantities]: http://pythonhosted.org/quantities/\n",
    "[units]: https://pypi.python.org/pypi/units/\n",
    "[sympy.physics.units]: http://docs.sympy.org/latest/modules/physics/units.html\n",
    "[etc]: http://conference.scipy.org/scipy2013/presentation_detail.php?id=174"
   ]
  },
  {
   "cell_type": "markdown",
   "metadata": {
    "slideshow": {
     "slide_type": "subslide"
    }
   },
   "source": [
    "## Scientific Notation\n",
    "\n",
    "Numbers can be written in **scientific notation**. For example, the 'universal gravitational constant' that describes the gravitational attraction between masses is $6.67428 \\times 10^{11}$ (with units meters-cubed per kilogram per second squared).\n",
    "\n",
    "In the computer notation, this would be written as `6.67428e-11`.\n",
    "\n",
    "<br/>\n",
    "<div class=\"alert alert-warning\" style=\"font-size: .8em;\">\n",
    "The `Python` language does not directly support the recording of units. Though we will learn about some *add-on* libraries that help with this later in the semester.\n",
    "</div>"
   ]
  },
  {
   "cell_type": "markdown",
   "metadata": {
    "slideshow": {
     "slide_type": "slide"
    }
   },
   "source": [
    "## Floating Points\n",
    "\n",
    "Computer arithmetic is accurate and reliable, but it often involves very slight rounding of numbers. Ordinarily, this is not noticeable. However, it can become apparent in some calculations that produce results that are (near) zero. For example, mathematically, $sin(\\pi) = 0$, however, the computer does not duplicate the mathematical relationship exactly:"
   ]
  },
  {
   "cell_type": "code",
   "execution_count": 28,
   "metadata": {
    "collapsed": false
   },
   "outputs": [
    {
     "data": {
      "text/plain": [
       "1.2246467991473532e-16"
      ]
     },
     "execution_count": 28,
     "metadata": {},
     "output_type": "execute_result"
    }
   ],
   "source": [
    "np.sin(np.pi)"
   ]
  },
  {
   "cell_type": "markdown",
   "metadata": {
    "slideshow": {
     "slide_type": "fragment"
    }
   },
   "source": [
    "Whether a number like this is properly interpreted as 'close to zero' depends on the context and, for quantities that have units, on the units themselves."
   ]
  },
  {
   "cell_type": "markdown",
   "metadata": {
    "slideshow": {
     "slide_type": "slide"
    }
   },
   "source": [
    "## Special 'Numbers'\n",
    "\n",
    "There are several 'special' numbers in the `Python` world; two of which are `inf`, which stands for $\\infty$ (infinity), and `nan`, which stands for 'not a number' (nan results when a numerical operation isn't define), for instance:"
   ]
  },
  {
   "cell_type": "code",
   "execution_count": 29,
   "metadata": {
    "collapsed": false
   },
   "outputs": [
    {
     "name": "stderr",
     "output_type": "stream",
     "text": [
      "/Users/carsonfarmer/miniconda3/envs/space-time/lib/python3.5/site-packages/ipykernel/__main__.py:1: RuntimeWarning: divide by zero encountered in double_scalars\n",
      "  if __name__ == '__main__':\n"
     ]
    },
    {
     "data": {
      "text/plain": [
       "inf"
      ]
     },
     "execution_count": 29,
     "metadata": {},
     "output_type": "execute_result"
    }
   ],
   "source": [
    "np.float64(1.) / 0."
   ]
  },
  {
   "cell_type": "code",
   "execution_count": 30,
   "metadata": {
    "collapsed": false
   },
   "outputs": [
    {
     "name": "stderr",
     "output_type": "stream",
     "text": [
      "/Users/carsonfarmer/miniconda3/envs/space-time/lib/python3.5/site-packages/ipykernel/__main__.py:1: RuntimeWarning: invalid value encountered in double_scalars\n",
      "  if __name__ == '__main__':\n"
     ]
    },
    {
     "data": {
      "text/plain": [
       "nan"
      ]
     },
     "execution_count": 30,
     "metadata": {},
     "output_type": "execute_result"
    }
   ],
   "source": [
    "np.float64(0.) / 0."
   ]
  },
  {
   "cell_type": "markdown",
   "metadata": {
    "slideshow": {
     "slide_type": "subslide"
    }
   },
   "source": [
    "<div class=\"alert alert-warning\" style=\"font-size: .8em;\">\n",
    "Mathematically oriented readers will wonder why <code>Python</code> should have any trouble with a computation like $\\sqrt{-9}$; the result is the imaginary number $3\\jmath$ (imaginary numbers may be represented by a $\\jmath$ or a $\\imath$, depending on the field). <code>Python</code> works with complex numbers, but you have to explicitly tell the system that this is what you want to do. To calculate $\\sqrt{-9}$ for example, simply use <code>np.sqrt(-9+0j)</code>.\n",
    "</div>"
   ]
  },
  {
   "cell_type": "markdown",
   "metadata": {
    "slideshow": {
     "slide_type": "slide"
    }
   },
   "source": [
    "## Types of Objects\n",
    "\n",
    "Most of the examples used so far have dealt with numbers. But computers work with other kinds of information as well: text, photographs, sounds, data-sets\\*, and so on.\n",
    "\n",
    "<br/>\n",
    "<div class=\"alert alert-info\" style=\"font-size: .8em;\">\n",
    "\\* In `Python`, data frames are not 'built in' as part of the basic language, but the excellent [`pandas`](http://pandas.pydata.org/) library provides data frames and a whole slew of other functionality for researchers doing data analysis with `Python`. We will be learning more about `pandas` coming up.\n",
    "</div>"
   ]
  },
  {
   "cell_type": "markdown",
   "metadata": {
    "slideshow": {
     "slide_type": "subslide"
    }
   },
   "source": [
    "## Types...\n",
    "\n",
    "The word **type** is used to refer to the *kind* of information. Modern computer languages support a great variety of types. It's important to know about the types of data because operators expect their input arguments to be of specific types. When you use the wrong type of input, the computer might not be able to process your command."
   ]
  },
  {
   "cell_type": "markdown",
   "metadata": {
    "slideshow": {
     "slide_type": "slide"
    }
   },
   "source": [
    "## A Note on Strings\n",
    "\n",
    "Whenever you refer to an object name, make sure that you don't use quotes. For example, in the following, we are first assigning the string `\"python\"` to the `name` object, and then returning (and printing automatically) the `name` object."
   ]
  },
  {
   "cell_type": "code",
   "execution_count": 31,
   "metadata": {
    "collapsed": false
   },
   "outputs": [
    {
     "data": {
      "text/plain": [
       "'python'"
      ]
     },
     "execution_count": 31,
     "metadata": {},
     "output_type": "execute_result"
    }
   ],
   "source": [
    "name = \"python\"\n",
    "name"
   ]
  },
  {
   "cell_type": "markdown",
   "metadata": {},
   "source": [
    "Inputting the *string* **doesn't** refer to an object: it will merely 'print' the text itself:"
   ]
  },
  {
   "cell_type": "code",
   "execution_count": 32,
   "metadata": {
    "collapsed": false
   },
   "outputs": [
    {
     "data": {
      "text/plain": [
       "'name'"
      ]
     },
     "execution_count": 32,
     "metadata": {},
     "output_type": "execute_result"
    }
   ],
   "source": [
    "\"name\""
   ]
  },
  {
   "cell_type": "markdown",
   "metadata": {
    "slideshow": {
     "slide_type": "slide"
    }
   },
   "source": [
    "## Names vs Strings\n",
    "\n",
    "Similarly, if you omit the quotation marks from around the text, `Python` will treat it as an object name and will look for *that* named object.\n",
    "\n",
    "For instance, here we 'lookup' the value contained in a `python` object and insert that value into `name`:"
   ]
  },
  {
   "cell_type": "code",
   "execution_count": 33,
   "metadata": {
    "collapsed": false
   },
   "outputs": [
    {
     "ename": "NameError",
     "evalue": "name 'python' is not defined",
     "output_type": "error",
     "traceback": [
      "\u001b[0;31m---------------------------------------------------------------------------\u001b[0m",
      "\u001b[0;31mNameError\u001b[0m                                 Traceback (most recent call last)",
      "\u001b[0;32m<ipython-input-33-43a69bc65ba8>\u001b[0m in \u001b[0;36m<module>\u001b[0;34m()\u001b[0m\n\u001b[0;32m----> 1\u001b[0;31m \u001b[0mname\u001b[0m \u001b[0;34m=\u001b[0m \u001b[0mpython\u001b[0m\u001b[0;34m\u001b[0m\u001b[0m\n\u001b[0m",
      "\u001b[0;31mNameError\u001b[0m: name 'python' is not defined"
     ]
    }
   ],
   "source": [
    "name = python"
   ]
  },
  {
   "cell_type": "markdown",
   "metadata": {
    "slideshow": {
     "slide_type": "subslide"
    }
   },
   "source": [
    "## Oops!\n",
    "\n",
    "As it happens, there was no object named `python` because it had not been defined by any previous assignment command. So, the computer generated an error.\n",
    "\n",
    "And on that note... its time to move on!"
   ]
  }
 ],
 "metadata": {
  "anaconda-cloud": {},
  "celltoolbar": "Slideshow",
  "kernelspec": {
   "display_name": "Python [default]",
   "language": "python",
   "name": "python3"
  },
  "language_info": {
   "codemirror_mode": {
    "name": "ipython",
    "version": 3
   },
   "file_extension": ".py",
   "mimetype": "text/x-python",
   "name": "python",
   "nbconvert_exporter": "python",
   "pygments_lexer": "ipython3",
   "version": "3.5.2"
  },
  "latex_envs": {
   "bibliofile": "biblio.bib",
   "cite_by": "apalike",
   "current_citInitial": 1,
   "eqLabelWithNumbers": true,
   "eqNumInitial": 0
  },
  "nav_menu": {},
  "toc": {
   "navigate_menu": false,
   "number_sections": false,
   "sideBar": true,
   "threshold": 6,
   "toc_cell": false,
   "toc_section_display": "block",
   "toc_window_display": false
  }
 },
 "nbformat": 4,
 "nbformat_minor": 0
}
